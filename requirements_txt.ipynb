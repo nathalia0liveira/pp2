{
  "nbformat": 4,
  "nbformat_minor": 0,
  "metadata": {
    "colab": {
      "provenance": []
    },
    "kernelspec": {
      "name": "python3",
      "display_name": "Python 3"
    },
    "language_info": {
      "name": "python"
    }
  },
  "cells": [
    {
      "cell_type": "code",
      "execution_count": 1,
      "metadata": {
        "colab": {
          "base_uri": "https://localhost:8080/"
        },
        "id": "FoKmBX9yr0U1",
        "outputId": "691ae624-74b6-4891-9623-a9cff433d5d0"
      },
      "outputs": [
        {
          "output_type": "stream",
          "name": "stdout",
          "text": [
            "Writing requirements.txt\n"
          ]
        }
      ],
      "source": [
        "# Criação do arquivo requirements.txt no Google Colab\n",
        "%%writefile requirements.txt\n",
        "streamlit\n",
        "scikit-learn\n",
        "numpy\n",
        "pandas\n"
      ]
    }
  ]
}